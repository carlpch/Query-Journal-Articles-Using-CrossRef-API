{
 "cells": [
  {
   "cell_type": "markdown",
   "metadata": {},
   "source": [
    "# Python CrossRef Journal Query\n",
    "\n",
    "Carl Huang<br>\n",
    "2019-02-25\n",
    "\n",
    "## Motivation \n",
    "Are there ways to get regular updates from a journal other than using a headless browser? This short note seeks to try out one python package: \n",
    "Fabio Batalha's <a href=\"https://github.com/fabiobatalha/crossrefapi\">CrossRef API</a>. \n",
    "\n",
    "For R users, the <a href=\"https://github.com/ropensci/rcrossref\">rcrossref</a> (R interface to various CrossRef APIs) seems neat. I will try to stick to Python because I might need  to pass the results to my Mediawiki later. \n",
    "\n",
    "https://qiita.com/ina111/items/bbdecf9c711cc0bc54d5\n",
    "\n",
    "I will be primarily dealing with `Works`, as this refers to the journal articles (or books):"
   ]
  },
  {
   "cell_type": "code",
   "execution_count": 1,
   "metadata": {},
   "outputs": [],
   "source": [
    "from crossref.restful import Works\n",
    "works = Works()"
   ]
  },
  {
   "cell_type": "markdown",
   "metadata": {},
   "source": [
    "I can look at an author's name through an article's DOI:"
   ]
  },
  {
   "cell_type": "code",
   "execution_count": 2,
   "metadata": {},
   "outputs": [
    {
     "data": {
      "text/plain": [
       "[{'affiliation': [], 'family': 'Enos', 'given': 'R. D.', 'sequence': 'first'}]"
      ]
     },
     "execution_count": 2,
     "metadata": {},
     "output_type": "execute_result"
    }
   ],
   "source": [
    "works.doi('10.1073/pnas.1317670111')['author']"
   ]
  },
  {
   "cell_type": "markdown",
   "metadata": {},
   "source": [
    "I can also query the Journal's title:"
   ]
  },
  {
   "cell_type": "code",
   "execution_count": 3,
   "metadata": {},
   "outputs": [
    {
     "data": {
      "text/plain": [
       "['Proceedings of the National Academy of Sciences']"
      ]
     },
     "execution_count": 3,
     "metadata": {},
     "output_type": "execute_result"
    }
   ],
   "source": [
    "works.doi('10.1073/pnas.1317670111')['container-title']"
   ]
  },
  {
   "cell_type": "markdown",
   "metadata": {},
   "source": [
    "I can also look at a Journal's information:"
   ]
  },
  {
   "cell_type": "code",
   "execution_count": 4,
   "metadata": {},
   "outputs": [
    {
     "data": {
      "text/plain": [
       "{'ISSN': ['1747-7379', '0197-9183'],\n",
       " 'breakdowns': {'dois-by-issued-year': [[1994, 289],\n",
       "   [1987, 282],\n",
       "   [1972, 268],\n",
       "   [1997, 264],\n",
       "   [1973, 258],\n",
       "   [2000, 253],\n",
       "   [1995, 253],\n",
       "   [1998, 248],\n",
       "   [1992, 248],\n",
       "   [1984, 240],\n",
       "   [1993, 233],\n",
       "   [1999, 226],\n",
       "   [1986, 226],\n",
       "   [1989, 225],\n",
       "   [1996, 221],\n",
       "   [1983, 218],\n",
       "   [1990, 211],\n",
       "   [1981, 210],\n",
       "   [1991, 204],\n",
       "   [1975, 204],\n",
       "   [2006, 203],\n",
       "   [1974, 198],\n",
       "   [1971, 194],\n",
       "   [1979, 189],\n",
       "   [1982, 187],\n",
       "   [1985, 180],\n",
       "   [1978, 178],\n",
       "   [1980, 160],\n",
       "   [1976, 158],\n",
       "   [2018, 150],\n",
       "   [1977, 148],\n",
       "   [1988, 137],\n",
       "   [1970, 109],\n",
       "   [2016, 74],\n",
       "   [2017, 73],\n",
       "   [1969, 71],\n",
       "   [2014, 68],\n",
       "   [2004, 67],\n",
       "   [2015, 64],\n",
       "   [2003, 60],\n",
       "   [2007, 56],\n",
       "   [2001, 55],\n",
       "   [2011, 49],\n",
       "   [2009, 47],\n",
       "   [1968, 47],\n",
       "   [2013, 46],\n",
       "   [2010, 45],\n",
       "   [2012, 43],\n",
       "   [2008, 43],\n",
       "   [2005, 36],\n",
       "   [2002, 34],\n",
       "   [1967, 30],\n",
       "   [2019, 9],\n",
       "   [1966, 9]]},\n",
       " 'counts': {'backfile-dois': 7766, 'current-dois': 232, 'total-dois': 7998},\n",
       " 'coverage': {'abstracts-backfile': 0.0,\n",
       "  'abstracts-current': 0.0,\n",
       "  'affiliations-backfile': 0.45789337158203125,\n",
       "  'affiliations-current': 0.9525862336158752,\n",
       "  'award-numbers-backfile': 0.0033479267731308937,\n",
       "  'award-numbers-current': 0.12931033968925476,\n",
       "  'funders-backfile': 0.006438320968300104,\n",
       "  'funders-current': 0.17241379618644714,\n",
       "  'licenses-backfile': 0.6041720509529114,\n",
       "  'licenses-current': 0.982758641242981,\n",
       "  'open-references-backfile': 1.0,\n",
       "  'open-references-current': 1.0,\n",
       "  'orcids-backfile': 0.0,\n",
       "  'orcids-current': 0.043103449046611786,\n",
       "  'references-backfile': 0.1869688332080841,\n",
       "  'references-current': 0.6982758641242981,\n",
       "  'resource-links-backfile': 0.6041720509529114,\n",
       "  'resource-links-current': 0.982758641242981,\n",
       "  'similarity-checking-backfile': 0.5809940695762634,\n",
       "  'similarity-checking-current': 0.982758641242981,\n",
       "  'update-policies-backfile': 0.04056142270565033,\n",
       "  'update-policies-current': 0.9655172228813171},\n",
       " 'coverage-type': {'all': {'abstracts': 0.0,\n",
       "   'affiliations': 0.47218403220176697,\n",
       "   'award-numbers': 0.0070008751936256886,\n",
       "   'funders': 0.011251406744122505,\n",
       "   'last-status-check-time': 1551112676155,\n",
       "   'licenses': 0.6150768995285034,\n",
       "   'open-references': 1.0,\n",
       "   'orcids': 0.0012501563178375363,\n",
       "   'references': 0.2017752230167389,\n",
       "   'resource-links': 0.6150768995285034,\n",
       "   'similarity-checking': 0.5925740599632263,\n",
       "   'update-policies': 0.06738342344760895},\n",
       "  'backfile': {'abstracts': 0.0,\n",
       "   'affiliations': 0.45789337158203125,\n",
       "   'award-numbers': 0.0033479267731308937,\n",
       "   'funders': 0.006438320968300104,\n",
       "   'last-status-check-time': 1551112675441,\n",
       "   'licenses': 0.6041720509529114,\n",
       "   'open-references': 1.0,\n",
       "   'orcids': 0.0,\n",
       "   'references': 0.1869688332080841,\n",
       "   'resource-links': 0.6041720509529114,\n",
       "   'similarity-checking': 0.5809940695762634,\n",
       "   'update-policies': 0.04056142270565033},\n",
       "  'current': {'abstracts': 0.0,\n",
       "   'affiliations': 0.9525862336158752,\n",
       "   'award-numbers': 0.12931033968925476,\n",
       "   'funders': 0.17241379618644714,\n",
       "   'last-status-check-time': 1551112674749,\n",
       "   'licenses': 0.982758641242981,\n",
       "   'open-references': 1.0,\n",
       "   'orcids': 0.043103449046611786,\n",
       "   'references': 0.6982758641242981,\n",
       "   'resource-links': 0.982758641242981,\n",
       "   'similarity-checking': 0.982758641242981,\n",
       "   'update-policies': 0.9655172228813171}},\n",
       " 'flags': {'deposits': True,\n",
       "  'deposits-abstracts-backfile': False,\n",
       "  'deposits-abstracts-current': False,\n",
       "  'deposits-affiliations-backfile': True,\n",
       "  'deposits-affiliations-current': True,\n",
       "  'deposits-articles': True,\n",
       "  'deposits-award-numbers-backfile': True,\n",
       "  'deposits-award-numbers-current': True,\n",
       "  'deposits-funders-backfile': True,\n",
       "  'deposits-funders-current': True,\n",
       "  'deposits-licenses-backfile': True,\n",
       "  'deposits-licenses-current': True,\n",
       "  'deposits-open-references-backfile': True,\n",
       "  'deposits-open-references-current': True,\n",
       "  'deposits-orcids-backfile': False,\n",
       "  'deposits-orcids-current': True,\n",
       "  'deposits-references-backfile': True,\n",
       "  'deposits-references-current': True,\n",
       "  'deposits-resource-links-backfile': True,\n",
       "  'deposits-resource-links-current': True,\n",
       "  'deposits-similarity-checking-backfile': True,\n",
       "  'deposits-similarity-checking-current': True,\n",
       "  'deposits-update-policies-backfile': True,\n",
       "  'deposits-update-policies-current': True},\n",
       " 'issn-type': [{'type': 'electronic', 'value': '1747-7379'},\n",
       "  {'type': 'print', 'value': '0197-9183'}],\n",
       " 'last-status-check-time': 1551112678334,\n",
       " 'publisher': 'SAGE Publications',\n",
       " 'subjects': [{'ASJC': 1201, 'name': 'Arts and Humanities (miscellaneous)'},\n",
       "  {'ASJC': 3317, 'name': 'Demography'}],\n",
       " 'title': 'International Migration Review'}"
      ]
     },
     "execution_count": 4,
     "metadata": {},
     "output_type": "execute_result"
    }
   ],
   "source": [
    "from crossref.restful import Journals\n",
    "journals = Journals()\n",
    "\n",
    "Polisci = {\n",
    "    'AJPS':'00925853', \n",
    "    'APSR':'00030554',\n",
    "    'CMPS':'0738-8942',\n",
    "    'IS':'0162-2889',\n",
    "    'IO':'0020-8183',\n",
    "    'IMR':'1747-7379'}\n",
    "\n",
    "journals.journal(Polisci['IMR'])"
   ]
  },
  {
   "cell_type": "markdown",
   "metadata": {},
   "source": [
    "`.count` and `.url` might come in handy in some cases:"
   ]
  },
  {
   "cell_type": "code",
   "execution_count": 5,
   "metadata": {},
   "outputs": [
    {
     "data": {
      "text/plain": [
       "4"
      ]
     },
     "execution_count": 5,
     "metadata": {},
     "output_type": "execute_result"
    }
   ],
   "source": [
    "journals.works(Polisci['IMR']).query('Taiwan').count()"
   ]
  },
  {
   "cell_type": "code",
   "execution_count": 6,
   "metadata": {},
   "outputs": [
    {
     "data": {
      "text/plain": [
       "'https://api.crossref.org/journals/1747-7379/works?query=Taiwan'"
      ]
     },
     "execution_count": 6,
     "metadata": {},
     "output_type": "execute_result"
    }
   ],
   "source": [
    "journals.works(Polisci['IMR']).query('Taiwan').url"
   ]
  },
  {
   "cell_type": "code",
   "execution_count": 7,
   "metadata": {},
   "outputs": [
    {
     "data": {
      "text/plain": [
       "[{'DOI': '10.1111/j.1747-7379.2007.00091.x',\n",
       "  'author': [{'affiliation': [{'name': 'Director of the Graduate Institute of Sociology, National Sun Yat-sen University, Taiwan'}],\n",
       "    'family': 'Wang',\n",
       "    'given': 'Hong-zen',\n",
       "    'sequence': 'first'}],\n",
       "  'container-title': ['International Migration Review'],\n",
       "  'issued': {'date-parts': [[2007, 9]]},\n",
       "  'title': ['Hidden Spaces of Resistance of the Subordinated: Case Studies from Vietnamese Female Migrant Partners in Taiwan']},\n",
       " {'DOI': '10.1177/019791839202600303',\n",
       "  'author': [{'affiliation': [{'name': 'University of Cincinnati'}],\n",
       "    'family': 'Selya',\n",
       "    'given': 'Roger Mark',\n",
       "    'sequence': 'first'}],\n",
       "  'container-title': ['International Migration Review'],\n",
       "  'issued': {'date-parts': [[1992, 9]]},\n",
       "  'title': ['Illegal Migration in Taiwan: A Preliminary Overview']},\n",
       " {'DOI': '10.1177/0197918318769315',\n",
       "  'author': [{'affiliation': [],\n",
       "    'family': 'Rainwater',\n",
       "    'given': 'Katie',\n",
       "    'sequence': 'first'},\n",
       "   {'affiliation': [{'name': 'Cornell University'}],\n",
       "    'family': 'Williams',\n",
       "    'given': 'Lindy Brooks',\n",
       "    'sequence': 'additional'}],\n",
       "  'container-title': ['International Migration Review'],\n",
       "  'issued': {'date-parts': [[2018, 5, 16]]},\n",
       "  'title': ['Thai Guestworker Export in Decline']},\n",
       " {'DOI': '10.1111/j.1747-7379.2011.00847.x',\n",
       "  'author': [{'affiliation': [{'name': 'Department of Sociology, National Taipei University, Taipei, Taiwan'}],\n",
       "    'family': 'Tsai',\n",
       "    'given': 'Ming-Chang',\n",
       "    'sequence': 'first'}],\n",
       "  'container-title': ['International Migration Review'],\n",
       "  'issued': {'date-parts': [[2011, 6]]},\n",
       "  'title': ['“Foreign Brides” Meet Ethnic Politics in Taiwan']}]"
      ]
     },
     "execution_count": 7,
     "metadata": {},
     "output_type": "execute_result"
    }
   ],
   "source": [
    "list = [i for i in journals.works(Polisci['IMR']).query('Taiwan').select(['author','title','issued','container-title','DOI'])]\n",
    "list"
   ]
  },
  {
   "cell_type": "markdown",
   "metadata": {},
   "source": [
    "## Formatting Table\n",
    "\n",
    "### Approach 1: DataFrame first, fix later"
   ]
  },
  {
   "cell_type": "code",
   "execution_count": 8,
   "metadata": {},
   "outputs": [
    {
     "data": {
      "text/html": [
       "<div>\n",
       "<table border=\"1\" class=\"dataframe\">\n",
       "  <thead>\n",
       "    <tr style=\"text-align: right;\">\n",
       "      <th></th>\n",
       "      <th>DOI</th>\n",
       "      <th>author</th>\n",
       "      <th>container-title</th>\n",
       "      <th>issued</th>\n",
       "      <th>title</th>\n",
       "    </tr>\n",
       "  </thead>\n",
       "  <tbody>\n",
       "    <tr>\n",
       "      <th>0</th>\n",
       "      <td>10.1111/j.1747-7379.2007.00091.x</td>\n",
       "      <td>[{'family': 'Wang', 'sequence': 'first', 'give...</td>\n",
       "      <td>[International Migration Review]</td>\n",
       "      <td>{'date-parts': [[2007, 9]]}</td>\n",
       "      <td>[Hidden Spaces of Resistance of the Subordinat...</td>\n",
       "    </tr>\n",
       "    <tr>\n",
       "      <th>1</th>\n",
       "      <td>10.1177/019791839202600303</td>\n",
       "      <td>[{'family': 'Selya', 'sequence': 'first', 'giv...</td>\n",
       "      <td>[International Migration Review]</td>\n",
       "      <td>{'date-parts': [[1992, 9]]}</td>\n",
       "      <td>[Illegal Migration in Taiwan: A Preliminary Ov...</td>\n",
       "    </tr>\n",
       "    <tr>\n",
       "      <th>2</th>\n",
       "      <td>10.1177/0197918318769315</td>\n",
       "      <td>[{'family': 'Rainwater', 'sequence': 'first', ...</td>\n",
       "      <td>[International Migration Review]</td>\n",
       "      <td>{'date-parts': [[2018, 5, 16]]}</td>\n",
       "      <td>[Thai Guestworker Export in Decline]</td>\n",
       "    </tr>\n",
       "    <tr>\n",
       "      <th>3</th>\n",
       "      <td>10.1111/j.1747-7379.2011.00847.x</td>\n",
       "      <td>[{'family': 'Tsai', 'sequence': 'first', 'give...</td>\n",
       "      <td>[International Migration Review]</td>\n",
       "      <td>{'date-parts': [[2011, 6]]}</td>\n",
       "      <td>[“Foreign Brides” Meet Ethnic Politics in Taiwan]</td>\n",
       "    </tr>\n",
       "  </tbody>\n",
       "</table>\n",
       "</div>"
      ],
      "text/plain": [
       "                                DOI  \\\n",
       "0  10.1111/j.1747-7379.2007.00091.x   \n",
       "1        10.1177/019791839202600303   \n",
       "2          10.1177/0197918318769315   \n",
       "3  10.1111/j.1747-7379.2011.00847.x   \n",
       "\n",
       "                                              author  \\\n",
       "0  [{'family': 'Wang', 'sequence': 'first', 'give...   \n",
       "1  [{'family': 'Selya', 'sequence': 'first', 'giv...   \n",
       "2  [{'family': 'Rainwater', 'sequence': 'first', ...   \n",
       "3  [{'family': 'Tsai', 'sequence': 'first', 'give...   \n",
       "\n",
       "                    container-title                           issued  \\\n",
       "0  [International Migration Review]      {'date-parts': [[2007, 9]]}   \n",
       "1  [International Migration Review]      {'date-parts': [[1992, 9]]}   \n",
       "2  [International Migration Review]  {'date-parts': [[2018, 5, 16]]}   \n",
       "3  [International Migration Review]      {'date-parts': [[2011, 6]]}   \n",
       "\n",
       "                                               title  \n",
       "0  [Hidden Spaces of Resistance of the Subordinat...  \n",
       "1  [Illegal Migration in Taiwan: A Preliminary Ov...  \n",
       "2               [Thai Guestworker Export in Decline]  \n",
       "3  [“Foreign Brides” Meet Ethnic Politics in Taiwan]  "
      ]
     },
     "execution_count": 8,
     "metadata": {},
     "output_type": "execute_result"
    }
   ],
   "source": [
    "from pandas import DataFrame \n",
    "data = DataFrame(list)\n",
    "data "
   ]
  },
  {
   "cell_type": "markdown",
   "metadata": {},
   "source": [
    "### Approach 2: Fix first, DataFrame later"
   ]
  },
  {
   "cell_type": "code",
   "execution_count": 9,
   "metadata": {},
   "outputs": [],
   "source": [
    "df = DataFrame(columns=['Last Name', 'First Name', 'Author Title', 'Journal', 'Year', 'Month', 'Title', 'DOI'])\n",
    "newlist = list\n",
    "for item in newlist: \n",
    "    item['Last Name'] = item['author'][0]['family']\n",
    "    item['First Name'] = item['author'][0]['given']\n",
    "    if len(item['author'][0]['affiliation'])==0:\n",
    "        item['Author Title'] = \"\"\n",
    "    else:\n",
    "        item['Author Title'] = item['author'][0]['affiliation'][0]['name']\n",
    "    item['Journal'] =  item['container-title'][0]\n",
    "    item['Year'] =  str(item['issued']['date-parts'][0][0])\n",
    "    item['Month'] = str(item['issued']['date-parts'][0][1])\n",
    "    item['Title'] = item['title'][0]\n",
    "    \n",
    "    item={i:item[i] for i in ['Last Name', 'First Name', 'Author Title', 'Journal', 'Year', 'Month', 'Title', 'DOI']}\n",
    "    \n",
    "    df=df.append(item, ignore_index=True)"
   ]
  },
  {
   "cell_type": "code",
   "execution_count": 10,
   "metadata": {},
   "outputs": [
    {
     "data": {
      "text/html": [
       "<div>\n",
       "<table border=\"1\" class=\"dataframe\">\n",
       "  <thead>\n",
       "    <tr style=\"text-align: right;\">\n",
       "      <th></th>\n",
       "      <th>Last Name</th>\n",
       "      <th>First Name</th>\n",
       "      <th>Author Title</th>\n",
       "      <th>Journal</th>\n",
       "      <th>Year</th>\n",
       "      <th>Month</th>\n",
       "      <th>Title</th>\n",
       "      <th>DOI</th>\n",
       "    </tr>\n",
       "  </thead>\n",
       "  <tbody>\n",
       "    <tr>\n",
       "      <th>0</th>\n",
       "      <td>Wang</td>\n",
       "      <td>Hong-zen</td>\n",
       "      <td>Director of the Graduate Institute of Sociolog...</td>\n",
       "      <td>International Migration Review</td>\n",
       "      <td>2007</td>\n",
       "      <td>9</td>\n",
       "      <td>Hidden Spaces of Resistance of the Subordinate...</td>\n",
       "      <td>10.1111/j.1747-7379.2007.00091.x</td>\n",
       "    </tr>\n",
       "    <tr>\n",
       "      <th>1</th>\n",
       "      <td>Selya</td>\n",
       "      <td>Roger Mark</td>\n",
       "      <td>University of Cincinnati</td>\n",
       "      <td>International Migration Review</td>\n",
       "      <td>1992</td>\n",
       "      <td>9</td>\n",
       "      <td>Illegal Migration in Taiwan: A Preliminary Ove...</td>\n",
       "      <td>10.1177/019791839202600303</td>\n",
       "    </tr>\n",
       "    <tr>\n",
       "      <th>2</th>\n",
       "      <td>Rainwater</td>\n",
       "      <td>Katie</td>\n",
       "      <td></td>\n",
       "      <td>International Migration Review</td>\n",
       "      <td>2018</td>\n",
       "      <td>5</td>\n",
       "      <td>Thai Guestworker Export in Decline</td>\n",
       "      <td>10.1177/0197918318769315</td>\n",
       "    </tr>\n",
       "    <tr>\n",
       "      <th>3</th>\n",
       "      <td>Tsai</td>\n",
       "      <td>Ming-Chang</td>\n",
       "      <td>Department of Sociology, National Taipei Unive...</td>\n",
       "      <td>International Migration Review</td>\n",
       "      <td>2011</td>\n",
       "      <td>6</td>\n",
       "      <td>“Foreign Brides” Meet Ethnic Politics in Taiwan</td>\n",
       "      <td>10.1111/j.1747-7379.2011.00847.x</td>\n",
       "    </tr>\n",
       "  </tbody>\n",
       "</table>\n",
       "</div>"
      ],
      "text/plain": [
       "   Last Name  First Name                                       Author Title  \\\n",
       "0       Wang    Hong-zen  Director of the Graduate Institute of Sociolog...   \n",
       "1      Selya  Roger Mark                           University of Cincinnati   \n",
       "2  Rainwater       Katie                                                      \n",
       "3       Tsai  Ming-Chang  Department of Sociology, National Taipei Unive...   \n",
       "\n",
       "                          Journal  Year Month  \\\n",
       "0  International Migration Review  2007     9   \n",
       "1  International Migration Review  1992     9   \n",
       "2  International Migration Review  2018     5   \n",
       "3  International Migration Review  2011     6   \n",
       "\n",
       "                                               Title  \\\n",
       "0  Hidden Spaces of Resistance of the Subordinate...   \n",
       "1  Illegal Migration in Taiwan: A Preliminary Ove...   \n",
       "2                 Thai Guestworker Export in Decline   \n",
       "3    “Foreign Brides” Meet Ethnic Politics in Taiwan   \n",
       "\n",
       "                                DOI  \n",
       "0  10.1111/j.1747-7379.2007.00091.x  \n",
       "1        10.1177/019791839202600303  \n",
       "2          10.1177/0197918318769315  \n",
       "3  10.1111/j.1747-7379.2011.00847.x  "
      ]
     },
     "execution_count": 10,
     "metadata": {},
     "output_type": "execute_result"
    }
   ],
   "source": [
    "df"
   ]
  },
  {
   "cell_type": "code",
   "execution_count": 11,
   "metadata": {},
   "outputs": [
    {
     "name": "stdout",
     "output_type": "stream",
     "text": [
      "{|class=\"wikitable sortable\"\n",
      "! Last Name\n",
      "! First Name\n",
      "! Author Title\n",
      "! Journal\n",
      "! Year\n",
      "! Month\n",
      "! Title\n",
      "! DOI\n",
      "|-\n",
      "| Wang\n",
      "| Hong-zen\n",
      "| Director of the Graduate Institute of Sociology, National Sun Yat-sen University, Taiwan\n",
      "| International Migration Review\n",
      "| 2007\n",
      "| 9\n",
      "| Hidden Spaces of Resistance of the Subordinated: Case Studies from Vietnamese Female Migrant Partners in Taiwan\n",
      "| 10.1111/j.1747-7379.2007.00091.x\n",
      "|-\n",
      "| Selya\n",
      "| Roger Mark\n",
      "| University of Cincinnati\n",
      "| International Migration Review\n",
      "| 1992\n",
      "| 9\n",
      "| Illegal Migration in Taiwan: A Preliminary Overview\n",
      "| 10.1177/019791839202600303\n",
      "|-\n",
      "| Rainwater\n",
      "| Katie\n",
      "| \n",
      "| International Migration Review\n",
      "| 2018\n",
      "| 5\n",
      "| Thai Guestworker Export in Decline\n",
      "| 10.1177/0197918318769315\n",
      "|-\n",
      "| Tsai\n",
      "| Ming-Chang\n",
      "| Department of Sociology, National Taipei University, Taipei, Taiwan\n",
      "| International Migration Review\n",
      "| 2011\n",
      "| 6\n",
      "| “Foreign Brides” Meet Ethnic Politics in Taiwan\n",
      "| 10.1111/j.1747-7379.2011.00847.x\n",
      "|}\n"
     ]
    }
   ],
   "source": [
    "print('{|class=\"wikitable sortable\"')\n",
    "for column_name in df.columns:\n",
    "    print('!', column_name)\n",
    "print('|-')\n",
    "for i in range(len(df)):\n",
    "    for j in range(len(df.columns)):\n",
    "        print('|', df.ix[i,j])\n",
    "    if i+1<len(df):\n",
    "        print(\"|-\")\n",
    "    else:\n",
    "        print(\"|}\")"
   ]
  }
 ],
 "metadata": {
  "kernelspec": {
   "display_name": "Python 3",
   "language": "python",
   "name": "python3"
  },
  "language_info": {
   "codemirror_mode": {
    "name": "ipython",
    "version": 3
   },
   "file_extension": ".py",
   "mimetype": "text/x-python",
   "name": "python",
   "nbconvert_exporter": "python",
   "pygments_lexer": "ipython3",
   "version": "3.5.2"
  }
 },
 "nbformat": 4,
 "nbformat_minor": 2
}
